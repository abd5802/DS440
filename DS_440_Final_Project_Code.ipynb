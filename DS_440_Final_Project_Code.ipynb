{
  "nbformat": 4,
  "nbformat_minor": 0,
  "metadata": {
    "colab": {
      "provenance": [],
      "gpuType": "T4"
    },
    "kernelspec": {
      "name": "python3",
      "display_name": "Python 3"
    },
    "language_info": {
      "name": "python"
    },
    "accelerator": "GPU"
  },
  "cells": [
    {
      "cell_type": "markdown",
      "source": [
        "# Environment Set Up"
      ],
      "metadata": {
        "id": "VQG1bigPboqB"
      }
    },
    {
      "cell_type": "code",
      "source": [
        "from google.colab import drive\n",
        "import os\n",
        "import numpy as np\n",
        "import random\n",
        "from glob import glob\n",
        "from PIL import Image\n",
        "import matplotlib.pyplot as plt\n",
        "from sklearn.metrics import accuracy_score\n",
        "from sklearn.model_selection import train_test_split\n",
        "\n",
        "!pip install git+https://github.com/tensorflow/examples.git # install the tensorflow_examples package\n",
        "import tensorflow as tf\n",
        "from tensorflow_examples.models.pix2pix import pix2pix\n",
        "from tensorflow.keras.preprocessing.image import ImageDataGenerator\n",
        "from tensorflow.keras import layers, models"
      ],
      "metadata": {
        "colab": {
          "base_uri": "https://localhost:8080/"
        },
        "id": "-d7pNLzGbn9P",
        "outputId": "6cec3c48-7f86-4a1f-f704-9abafcc3465e"
      },
      "execution_count": null,
      "outputs": [
        {
          "output_type": "stream",
          "name": "stdout",
          "text": [
            "Collecting git+https://github.com/tensorflow/examples.git\n",
            "  Cloning https://github.com/tensorflow/examples.git to /tmp/pip-req-build-0t97bepq\n",
            "  Running command git clone --filter=blob:none --quiet https://github.com/tensorflow/examples.git /tmp/pip-req-build-0t97bepq\n",
            "  Resolved https://github.com/tensorflow/examples.git to commit 6a3a323f3885f16085ad8335392f7ec836c677f4\n",
            "  Preparing metadata (setup.py) ... \u001b[?25l\u001b[?25hdone\n",
            "Requirement already satisfied: absl-py in /usr/local/lib/python3.11/dist-packages (from tensorflow-examples==0.1744662746.606450842056059708696507624557970837683594229748) (1.4.0)\n",
            "Requirement already satisfied: six in /usr/local/lib/python3.11/dist-packages (from tensorflow-examples==0.1744662746.606450842056059708696507624557970837683594229748) (1.17.0)\n"
          ]
        }
      ]
    },
    {
      "cell_type": "markdown",
      "source": [
        "#Pull in Data"
      ],
      "metadata": {
        "id": "A9ZCbn4B63WY"
      }
    },
    {
      "cell_type": "markdown",
      "source": [
        "Starting With:\n",
        "* 26 Black Positive\n",
        "* 14 White Positive\n",
        "* 14 Black None\n",
        "* 8 White None\n",
        "* 8 Black Other\n",
        "* 15 White Other\n"
      ],
      "metadata": {
        "id": "KRGFAT667LQ1"
      }
    },
    {
      "cell_type": "code",
      "execution_count": null,
      "metadata": {
        "id": "Q7Q6d4uF6AgR",
        "colab": {
          "base_uri": "https://localhost:8080/"
        },
        "outputId": "8c87b7ca-0b1f-4e81-e4ad-0e7152822417"
      },
      "outputs": [
        {
          "output_type": "stream",
          "name": "stdout",
          "text": [
            "Mounted at /content/drive\n",
            "blacknone: 14\n",
            "blackother: 8\n",
            "blackpositive: 26\n",
            "whitenone: 11\n",
            "whiteother: 15\n",
            "whitepositive: 14\n"
          ]
        }
      ],
      "source": [
        "# Mount Google Drive\n",
        "drive.mount('/content/drive')\n",
        "\n",
        "# Define base directory\n",
        "base_dir = \"/content/drive/My Drive/images\"\n",
        "\n",
        "# Define folder names\n",
        "folders = [\"blacknone\", \"blackother\", \"blackpositive\", \"whitenone\", \"whiteother\", \"whitepositive\"]\n",
        "\n",
        "# Create variables for each folder\n",
        "blacknone = glob(os.path.join(base_dir, \"blacknone\", \"*\"))\n",
        "blackother = glob(os.path.join(base_dir, \"blackother\", \"*\"))\n",
        "blackpositive = glob(os.path.join(base_dir, \"blackpositive\", \"*\"))\n",
        "whitenone = glob(os.path.join(base_dir, \"whitenone\", \"*\"))\n",
        "whiteother = glob(os.path.join(base_dir, \"whiteother\", \"*\"))\n",
        "whitepositive = glob(os.path.join(base_dir, \"whitepositive\", \"*\"))\n",
        "\n",
        "# Print number of images in each\n",
        "print(\"blacknone:\", len(blacknone))\n",
        "print(\"blackother:\", len(blackother))\n",
        "print(\"blackpositive:\", len(blackpositive))\n",
        "print(\"whitenone:\", len(whitenone))\n",
        "print(\"whiteother:\", len(whiteother))\n",
        "print(\"whitepositive:\", len(whitepositive))"
      ]
    },
    {
      "cell_type": "markdown",
      "source": [
        "set up paths and loader"
      ],
      "metadata": {
        "id": "PdazcsjEacOK"
      }
    },
    {
      "cell_type": "code",
      "source": [
        "IMG_SIZE = 256\n",
        "\n",
        "def load_and_preprocess_image(path):\n",
        "    img = Image.open(path).convert(\"RGB\").resize((IMG_SIZE, IMG_SIZE))\n",
        "    arr = np.array(img).astype(np.float32)\n",
        "    return (arr / 127.5) - 1.0  # normalize to [-1, 1]\n",
        "\n",
        "def make_dataset(path_list):\n",
        "    ds = [load_and_preprocess_image(p) for p in path_list]\n",
        "    return tf.data.Dataset.from_tensor_slices(ds).shuffle(100).batch(1)\n",
        "\n",
        "black_ds = make_dataset(blackpositive)   # real X = blackpositive\n",
        "white_ds = make_dataset(whitepositive)   # real Y = whitepositive"
      ],
      "metadata": {
        "id": "4EnvW2Byabtm"
      },
      "execution_count": null,
      "outputs": []
    },
    {
      "cell_type": "markdown",
      "source": [
        "# Baseline Classifcation Model"
      ],
      "metadata": {
        "id": "ghPbUpNj8UiD"
      }
    },
    {
      "cell_type": "code",
      "source": [
        "# Set parameters\n",
        "img_size = (224, 224)\n",
        "batch_size = 32\n",
        "\n",
        "# Create ImageDataGenerators for loading data\n",
        "datagen = ImageDataGenerator(\n",
        "    rescale=1./255,\n",
        "    validation_split=0.2  # 80/20 train/val split\n",
        ")\n",
        "\n",
        "# Load training data\n",
        "train_data = datagen.flow_from_directory(\n",
        "    base_dir,\n",
        "    target_size=img_size,\n",
        "    batch_size=batch_size,\n",
        "    class_mode='categorical',\n",
        "    subset='training',\n",
        "    shuffle=True\n",
        ")\n",
        "\n",
        "# Load validation data\n",
        "val_data = datagen.flow_from_directory(\n",
        "    base_dir,\n",
        "    target_size=img_size,\n",
        "    batch_size=batch_size,\n",
        "    class_mode='categorical',\n",
        "    subset='validation',\n",
        "    shuffle=False\n",
        ")\n",
        "\n",
        "# Show class indices\n",
        "print(\"Class Indices:\", train_data.class_indices)\n",
        "\n",
        "\n"
      ],
      "metadata": {
        "id": "gs3NtdOE8ZiW",
        "colab": {
          "base_uri": "https://localhost:8080/"
        },
        "outputId": "aa3a1384-6836-4abb-e263-d5c1fa9ea3af"
      },
      "execution_count": null,
      "outputs": [
        {
          "output_type": "stream",
          "name": "stdout",
          "text": [
            "Found 73 images belonging to 6 classes.\n",
            "Found 15 images belonging to 6 classes.\n",
            "Class Indices: {'blacknone': 0, 'blackother': 1, 'blackpositive': 2, 'whitenone': 3, 'whiteother': 4, 'whitepositive': 5}\n"
          ]
        }
      ]
    },
    {
      "cell_type": "code",
      "source": [
        "model = tf.keras.Sequential([\n",
        "    tf.keras.layers.Conv2D(32, (3, 3), activation='relu', input_shape=(*img_size, 3)),\n",
        "    tf.keras.layers.MaxPooling2D(2, 2),\n",
        "\n",
        "    tf.keras.layers.Conv2D(64, (3, 3), activation='relu'),\n",
        "    tf.keras.layers.MaxPooling2D(2, 2),\n",
        "\n",
        "    tf.keras.layers.Conv2D(128, (3, 3), activation='relu'),\n",
        "    tf.keras.layers.MaxPooling2D(2, 2),\n",
        "\n",
        "    tf.keras.layers.Flatten(),\n",
        "    tf.keras.layers.Dense(128, activation='relu'),\n",
        "    tf.keras.layers.Dense(6, activation='softmax')  # 6 classes\n",
        "])\n",
        "\n",
        "model.compile(optimizer='adam',\n",
        "              loss='categorical_crossentropy',\n",
        "              metrics=['accuracy'])\n",
        "\n",
        "model.summary()\n"
      ],
      "metadata": {
        "id": "Pv3C8hCh9qbl",
        "colab": {
          "base_uri": "https://localhost:8080/",
          "height": 472
        },
        "outputId": "a2d98001-4799-4690-a88e-892d44078a3d"
      },
      "execution_count": null,
      "outputs": [
        {
          "output_type": "stream",
          "name": "stderr",
          "text": [
            "/usr/local/lib/python3.11/dist-packages/keras/src/layers/convolutional/base_conv.py:107: UserWarning: Do not pass an `input_shape`/`input_dim` argument to a layer. When using Sequential models, prefer using an `Input(shape)` object as the first layer in the model instead.\n",
            "  super().__init__(activity_regularizer=activity_regularizer, **kwargs)\n"
          ]
        },
        {
          "output_type": "display_data",
          "data": {
            "text/plain": [
              "\u001b[1mModel: \"sequential\"\u001b[0m\n"
            ],
            "text/html": [
              "<pre style=\"white-space:pre;overflow-x:auto;line-height:normal;font-family:Menlo,'DejaVu Sans Mono',consolas,'Courier New',monospace\"><span style=\"font-weight: bold\">Model: \"sequential\"</span>\n",
              "</pre>\n"
            ]
          },
          "metadata": {}
        },
        {
          "output_type": "display_data",
          "data": {
            "text/plain": [
              "┏━━━━━━━━━━━━━━━━━━━━━━━━━━━━━━━━━┳━━━━━━━━━━━━━━━━━━━━━━━━┳━━━━━━━━━━━━━━━┓\n",
              "┃\u001b[1m \u001b[0m\u001b[1mLayer (type)                   \u001b[0m\u001b[1m \u001b[0m┃\u001b[1m \u001b[0m\u001b[1mOutput Shape          \u001b[0m\u001b[1m \u001b[0m┃\u001b[1m \u001b[0m\u001b[1m      Param #\u001b[0m\u001b[1m \u001b[0m┃\n",
              "┡━━━━━━━━━━━━━━━━━━━━━━━━━━━━━━━━━╇━━━━━━━━━━━━━━━━━━━━━━━━╇━━━━━━━━━━━━━━━┩\n",
              "│ conv2d (\u001b[38;5;33mConv2D\u001b[0m)                 │ (\u001b[38;5;45mNone\u001b[0m, \u001b[38;5;34m222\u001b[0m, \u001b[38;5;34m222\u001b[0m, \u001b[38;5;34m32\u001b[0m)   │           \u001b[38;5;34m896\u001b[0m │\n",
              "├─────────────────────────────────┼────────────────────────┼───────────────┤\n",
              "│ max_pooling2d (\u001b[38;5;33mMaxPooling2D\u001b[0m)    │ (\u001b[38;5;45mNone\u001b[0m, \u001b[38;5;34m111\u001b[0m, \u001b[38;5;34m111\u001b[0m, \u001b[38;5;34m32\u001b[0m)   │             \u001b[38;5;34m0\u001b[0m │\n",
              "├─────────────────────────────────┼────────────────────────┼───────────────┤\n",
              "│ conv2d_1 (\u001b[38;5;33mConv2D\u001b[0m)               │ (\u001b[38;5;45mNone\u001b[0m, \u001b[38;5;34m109\u001b[0m, \u001b[38;5;34m109\u001b[0m, \u001b[38;5;34m64\u001b[0m)   │        \u001b[38;5;34m18,496\u001b[0m │\n",
              "├─────────────────────────────────┼────────────────────────┼───────────────┤\n",
              "│ max_pooling2d_1 (\u001b[38;5;33mMaxPooling2D\u001b[0m)  │ (\u001b[38;5;45mNone\u001b[0m, \u001b[38;5;34m54\u001b[0m, \u001b[38;5;34m54\u001b[0m, \u001b[38;5;34m64\u001b[0m)     │             \u001b[38;5;34m0\u001b[0m │\n",
              "├─────────────────────────────────┼────────────────────────┼───────────────┤\n",
              "│ conv2d_2 (\u001b[38;5;33mConv2D\u001b[0m)               │ (\u001b[38;5;45mNone\u001b[0m, \u001b[38;5;34m52\u001b[0m, \u001b[38;5;34m52\u001b[0m, \u001b[38;5;34m128\u001b[0m)    │        \u001b[38;5;34m73,856\u001b[0m │\n",
              "├─────────────────────────────────┼────────────────────────┼───────────────┤\n",
              "│ max_pooling2d_2 (\u001b[38;5;33mMaxPooling2D\u001b[0m)  │ (\u001b[38;5;45mNone\u001b[0m, \u001b[38;5;34m26\u001b[0m, \u001b[38;5;34m26\u001b[0m, \u001b[38;5;34m128\u001b[0m)    │             \u001b[38;5;34m0\u001b[0m │\n",
              "├─────────────────────────────────┼────────────────────────┼───────────────┤\n",
              "│ flatten (\u001b[38;5;33mFlatten\u001b[0m)               │ (\u001b[38;5;45mNone\u001b[0m, \u001b[38;5;34m86528\u001b[0m)          │             \u001b[38;5;34m0\u001b[0m │\n",
              "├─────────────────────────────────┼────────────────────────┼───────────────┤\n",
              "│ dense (\u001b[38;5;33mDense\u001b[0m)                   │ (\u001b[38;5;45mNone\u001b[0m, \u001b[38;5;34m128\u001b[0m)            │    \u001b[38;5;34m11,075,712\u001b[0m │\n",
              "├─────────────────────────────────┼────────────────────────┼───────────────┤\n",
              "│ dense_1 (\u001b[38;5;33mDense\u001b[0m)                 │ (\u001b[38;5;45mNone\u001b[0m, \u001b[38;5;34m6\u001b[0m)              │           \u001b[38;5;34m774\u001b[0m │\n",
              "└─────────────────────────────────┴────────────────────────┴───────────────┘\n"
            ],
            "text/html": [
              "<pre style=\"white-space:pre;overflow-x:auto;line-height:normal;font-family:Menlo,'DejaVu Sans Mono',consolas,'Courier New',monospace\">┏━━━━━━━━━━━━━━━━━━━━━━━━━━━━━━━━━┳━━━━━━━━━━━━━━━━━━━━━━━━┳━━━━━━━━━━━━━━━┓\n",
              "┃<span style=\"font-weight: bold\"> Layer (type)                    </span>┃<span style=\"font-weight: bold\"> Output Shape           </span>┃<span style=\"font-weight: bold\">       Param # </span>┃\n",
              "┡━━━━━━━━━━━━━━━━━━━━━━━━━━━━━━━━━╇━━━━━━━━━━━━━━━━━━━━━━━━╇━━━━━━━━━━━━━━━┩\n",
              "│ conv2d (<span style=\"color: #0087ff; text-decoration-color: #0087ff\">Conv2D</span>)                 │ (<span style=\"color: #00d7ff; text-decoration-color: #00d7ff\">None</span>, <span style=\"color: #00af00; text-decoration-color: #00af00\">222</span>, <span style=\"color: #00af00; text-decoration-color: #00af00\">222</span>, <span style=\"color: #00af00; text-decoration-color: #00af00\">32</span>)   │           <span style=\"color: #00af00; text-decoration-color: #00af00\">896</span> │\n",
              "├─────────────────────────────────┼────────────────────────┼───────────────┤\n",
              "│ max_pooling2d (<span style=\"color: #0087ff; text-decoration-color: #0087ff\">MaxPooling2D</span>)    │ (<span style=\"color: #00d7ff; text-decoration-color: #00d7ff\">None</span>, <span style=\"color: #00af00; text-decoration-color: #00af00\">111</span>, <span style=\"color: #00af00; text-decoration-color: #00af00\">111</span>, <span style=\"color: #00af00; text-decoration-color: #00af00\">32</span>)   │             <span style=\"color: #00af00; text-decoration-color: #00af00\">0</span> │\n",
              "├─────────────────────────────────┼────────────────────────┼───────────────┤\n",
              "│ conv2d_1 (<span style=\"color: #0087ff; text-decoration-color: #0087ff\">Conv2D</span>)               │ (<span style=\"color: #00d7ff; text-decoration-color: #00d7ff\">None</span>, <span style=\"color: #00af00; text-decoration-color: #00af00\">109</span>, <span style=\"color: #00af00; text-decoration-color: #00af00\">109</span>, <span style=\"color: #00af00; text-decoration-color: #00af00\">64</span>)   │        <span style=\"color: #00af00; text-decoration-color: #00af00\">18,496</span> │\n",
              "├─────────────────────────────────┼────────────────────────┼───────────────┤\n",
              "│ max_pooling2d_1 (<span style=\"color: #0087ff; text-decoration-color: #0087ff\">MaxPooling2D</span>)  │ (<span style=\"color: #00d7ff; text-decoration-color: #00d7ff\">None</span>, <span style=\"color: #00af00; text-decoration-color: #00af00\">54</span>, <span style=\"color: #00af00; text-decoration-color: #00af00\">54</span>, <span style=\"color: #00af00; text-decoration-color: #00af00\">64</span>)     │             <span style=\"color: #00af00; text-decoration-color: #00af00\">0</span> │\n",
              "├─────────────────────────────────┼────────────────────────┼───────────────┤\n",
              "│ conv2d_2 (<span style=\"color: #0087ff; text-decoration-color: #0087ff\">Conv2D</span>)               │ (<span style=\"color: #00d7ff; text-decoration-color: #00d7ff\">None</span>, <span style=\"color: #00af00; text-decoration-color: #00af00\">52</span>, <span style=\"color: #00af00; text-decoration-color: #00af00\">52</span>, <span style=\"color: #00af00; text-decoration-color: #00af00\">128</span>)    │        <span style=\"color: #00af00; text-decoration-color: #00af00\">73,856</span> │\n",
              "├─────────────────────────────────┼────────────────────────┼───────────────┤\n",
              "│ max_pooling2d_2 (<span style=\"color: #0087ff; text-decoration-color: #0087ff\">MaxPooling2D</span>)  │ (<span style=\"color: #00d7ff; text-decoration-color: #00d7ff\">None</span>, <span style=\"color: #00af00; text-decoration-color: #00af00\">26</span>, <span style=\"color: #00af00; text-decoration-color: #00af00\">26</span>, <span style=\"color: #00af00; text-decoration-color: #00af00\">128</span>)    │             <span style=\"color: #00af00; text-decoration-color: #00af00\">0</span> │\n",
              "├─────────────────────────────────┼────────────────────────┼───────────────┤\n",
              "│ flatten (<span style=\"color: #0087ff; text-decoration-color: #0087ff\">Flatten</span>)               │ (<span style=\"color: #00d7ff; text-decoration-color: #00d7ff\">None</span>, <span style=\"color: #00af00; text-decoration-color: #00af00\">86528</span>)          │             <span style=\"color: #00af00; text-decoration-color: #00af00\">0</span> │\n",
              "├─────────────────────────────────┼────────────────────────┼───────────────┤\n",
              "│ dense (<span style=\"color: #0087ff; text-decoration-color: #0087ff\">Dense</span>)                   │ (<span style=\"color: #00d7ff; text-decoration-color: #00d7ff\">None</span>, <span style=\"color: #00af00; text-decoration-color: #00af00\">128</span>)            │    <span style=\"color: #00af00; text-decoration-color: #00af00\">11,075,712</span> │\n",
              "├─────────────────────────────────┼────────────────────────┼───────────────┤\n",
              "│ dense_1 (<span style=\"color: #0087ff; text-decoration-color: #0087ff\">Dense</span>)                 │ (<span style=\"color: #00d7ff; text-decoration-color: #00d7ff\">None</span>, <span style=\"color: #00af00; text-decoration-color: #00af00\">6</span>)              │           <span style=\"color: #00af00; text-decoration-color: #00af00\">774</span> │\n",
              "└─────────────────────────────────┴────────────────────────┴───────────────┘\n",
              "</pre>\n"
            ]
          },
          "metadata": {}
        },
        {
          "output_type": "display_data",
          "data": {
            "text/plain": [
              "\u001b[1m Total params: \u001b[0m\u001b[38;5;34m11,169,734\u001b[0m (42.61 MB)\n"
            ],
            "text/html": [
              "<pre style=\"white-space:pre;overflow-x:auto;line-height:normal;font-family:Menlo,'DejaVu Sans Mono',consolas,'Courier New',monospace\"><span style=\"font-weight: bold\"> Total params: </span><span style=\"color: #00af00; text-decoration-color: #00af00\">11,169,734</span> (42.61 MB)\n",
              "</pre>\n"
            ]
          },
          "metadata": {}
        },
        {
          "output_type": "display_data",
          "data": {
            "text/plain": [
              "\u001b[1m Trainable params: \u001b[0m\u001b[38;5;34m11,169,734\u001b[0m (42.61 MB)\n"
            ],
            "text/html": [
              "<pre style=\"white-space:pre;overflow-x:auto;line-height:normal;font-family:Menlo,'DejaVu Sans Mono',consolas,'Courier New',monospace\"><span style=\"font-weight: bold\"> Trainable params: </span><span style=\"color: #00af00; text-decoration-color: #00af00\">11,169,734</span> (42.61 MB)\n",
              "</pre>\n"
            ]
          },
          "metadata": {}
        },
        {
          "output_type": "display_data",
          "data": {
            "text/plain": [
              "\u001b[1m Non-trainable params: \u001b[0m\u001b[38;5;34m0\u001b[0m (0.00 B)\n"
            ],
            "text/html": [
              "<pre style=\"white-space:pre;overflow-x:auto;line-height:normal;font-family:Menlo,'DejaVu Sans Mono',consolas,'Courier New',monospace\"><span style=\"font-weight: bold\"> Non-trainable params: </span><span style=\"color: #00af00; text-decoration-color: #00af00\">0</span> (0.00 B)\n",
              "</pre>\n"
            ]
          },
          "metadata": {}
        }
      ]
    },
    {
      "cell_type": "code",
      "source": [
        "epochs = 7\n",
        "\n",
        "history = model.fit(\n",
        "    train_data,\n",
        "    validation_data=val_data,\n",
        "    epochs=epochs\n",
        ")"
      ],
      "metadata": {
        "id": "KB5eXMvC9v3Z",
        "colab": {
          "base_uri": "https://localhost:8080/"
        },
        "outputId": "9c69a13b-fe96-4f89-98f5-fac6a296b03c"
      },
      "execution_count": null,
      "outputs": [
        {
          "output_type": "stream",
          "name": "stderr",
          "text": [
            "/usr/local/lib/python3.11/dist-packages/keras/src/trainers/data_adapters/py_dataset_adapter.py:121: UserWarning: Your `PyDataset` class should call `super().__init__(**kwargs)` in its constructor. `**kwargs` can include `workers`, `use_multiprocessing`, `max_queue_size`. Do not pass these arguments to `fit()`, as they will be ignored.\n",
            "  self._warn_if_super_not_called()\n"
          ]
        },
        {
          "output_type": "stream",
          "name": "stdout",
          "text": [
            "Epoch 1/7\n",
            "\u001b[1m3/3\u001b[0m \u001b[32m━━━━━━━━━━━━━━━━━━━━\u001b[0m\u001b[37m\u001b[0m \u001b[1m18s\u001b[0m 4s/step - accuracy: 0.2121 - loss: 2.0479 - val_accuracy: 0.4667 - val_loss: 1.7612\n",
            "Epoch 2/7\n",
            "\u001b[1m3/3\u001b[0m \u001b[32m━━━━━━━━━━━━━━━━━━━━\u001b[0m\u001b[37m\u001b[0m \u001b[1m2s\u001b[0m 568ms/step - accuracy: 0.3054 - loss: 1.7885 - val_accuracy: 0.3333 - val_loss: 1.5173\n",
            "Epoch 3/7\n",
            "\u001b[1m3/3\u001b[0m \u001b[32m━━━━━━━━━━━━━━━━━━━━\u001b[0m\u001b[37m\u001b[0m \u001b[1m2s\u001b[0m 652ms/step - accuracy: 0.3230 - loss: 1.5237 - val_accuracy: 0.4000 - val_loss: 1.4967\n",
            "Epoch 4/7\n",
            "\u001b[1m3/3\u001b[0m \u001b[32m━━━━━━━━━━━━━━━━━━━━\u001b[0m\u001b[37m\u001b[0m \u001b[1m2s\u001b[0m 1s/step - accuracy: 0.4652 - loss: 1.4197 - val_accuracy: 0.4000 - val_loss: 1.5064\n",
            "Epoch 5/7\n",
            "\u001b[1m3/3\u001b[0m \u001b[32m━━━━━━━━━━━━━━━━━━━━\u001b[0m\u001b[37m\u001b[0m \u001b[1m3s\u001b[0m 1s/step - accuracy: 0.4446 - loss: 1.3698 - val_accuracy: 0.4000 - val_loss: 1.3827\n",
            "Epoch 6/7\n",
            "\u001b[1m3/3\u001b[0m \u001b[32m━━━━━━━━━━━━━━━━━━━━\u001b[0m\u001b[37m\u001b[0m \u001b[1m2s\u001b[0m 590ms/step - accuracy: 0.4012 - loss: 1.2903 - val_accuracy: 0.4667 - val_loss: 1.3335\n",
            "Epoch 7/7\n",
            "\u001b[1m3/3\u001b[0m \u001b[32m━━━━━━━━━━━━━━━━━━━━\u001b[0m\u001b[37m\u001b[0m \u001b[1m2s\u001b[0m 883ms/step - accuracy: 0.5618 - loss: 1.1153 - val_accuracy: 0.4667 - val_loss: 1.3929\n"
          ]
        }
      ]
    },
    {
      "cell_type": "markdown",
      "source": [
        "For baseline model:\n",
        "* Accuracy: 0.56\n",
        "* Loss: 1.12\n",
        "* Validation Accuracy: 0.47\n",
        "* Validation Loss: 1.39"
      ],
      "metadata": {
        "id": "LixT-pHjBeCr"
      }
    },
    {
      "cell_type": "markdown",
      "source": [
        "# Generate white pos using Cycle GAN"
      ],
      "metadata": {
        "id": "dYBDe44hKVbU"
      }
    },
    {
      "cell_type": "markdown",
      "source": [
        "build graph"
      ],
      "metadata": {
        "id": "x01WNDmHKecJ"
      }
    },
    {
      "cell_type": "code",
      "source": [
        "# build networks, losses, optimizers\n",
        "OUTPUT_CHANNELS = 3\n",
        "lambda_cycle = 10\n",
        "\n",
        "\n",
        "gen_g = pix2pix.unet_generator(OUTPUT_CHANNELS, norm_type='instancenorm')  # black→white\n",
        "gen_f = pix2pix.unet_generator(OUTPUT_CHANNELS, norm_type='instancenorm')  # white→black\n",
        "disc_x = pix2pix.discriminator(norm_type='instancenorm', target=False)\n",
        "disc_y = pix2pix.discriminator(norm_type='instancenorm', target=False)\n",
        "\n",
        "loss_obj = tf.keras.losses.BinaryCrossentropy(from_logits=True)\n",
        "opt_g = tf.keras.optimizers.Adam(2e-4, beta_1=0.5)\n",
        "opt_f = tf.keras.optimizers.Adam(2e-4, beta_1=0.5)\n",
        "opt_dx = tf.keras.optimizers.Adam(2e-4, beta_1=0.5)\n",
        "opt_dy = tf.keras.optimizers.Adam(2e-4, beta_1=0.5)"
      ],
      "metadata": {
        "id": "NpbNxASqKanV"
      },
      "execution_count": null,
      "outputs": []
    },
    {
      "cell_type": "markdown",
      "source": [
        "training function"
      ],
      "metadata": {
        "id": "fvnpWBFzKftI"
      }
    },
    {
      "cell_type": "code",
      "source": [
        "def gan_loss(pred, target):\n",
        "    return loss_obj(tf.ones_like(pred) if target=='real' else tf.zeros_like(pred), pred)\n",
        "\n",
        "def cycle_loss(real, cycled):\n",
        "    return tf.reduce_mean(tf.abs(real - cycled)) * lambda_cycle\n",
        "\n",
        "def identity_loss(real, same):\n",
        "    return tf.reduce_mean(tf.abs(real - same)) * (lambda_cycle * 0.5)\n",
        "\n",
        "@tf.function\n",
        "def train_step(real_x, real_y):\n",
        "    with tf.GradientTape(persistent=True) as tape:\n",
        "        # forward and backward\n",
        "        fake_y = gen_g(real_x, training=True)\n",
        "        fake_x = gen_f(real_y, training=True)\n",
        "        cycled_x = gen_f(fake_y, training=True)\n",
        "        cycled_y = gen_g(fake_x, training=True)\n",
        "        same_x = gen_f(real_x, training=True)\n",
        "        same_y = gen_g(real_y, training=True)\n",
        "\n",
        "        # discriminator outputs\n",
        "        d_real_x = disc_x(real_x, training=True)\n",
        "        d_real_y = disc_y(real_y, training=True)\n",
        "        d_fake_x = disc_x(fake_x, training=True)\n",
        "        d_fake_y = disc_y(fake_y, training=True)\n",
        "\n",
        "        # losses\n",
        "        g_g_loss = gan_loss(d_fake_y, 'real') + cycle_loss(real_x, cycled_x) + identity_loss(real_y, same_y)\n",
        "        g_f_loss = gan_loss(d_fake_x, 'real') + cycle_loss(real_y, cycled_y) + identity_loss(real_x, same_x)\n",
        "        d_x_loss = 0.5 * (gan_loss(d_real_x, 'real') + gan_loss(d_fake_x, 'fake'))\n",
        "        d_y_loss = 0.5 * (gan_loss(d_real_y, 'real') + gan_loss(d_fake_y, 'fake'))\n",
        "\n",
        "    # apply gradients\n",
        "    grads_g = tape.gradient(g_g_loss, gen_g.trainable_variables)\n",
        "    grads_f = tape.gradient(g_f_loss, gen_f.trainable_variables)\n",
        "    grads_dx = tape.gradient(d_x_loss, disc_x.trainable_variables)\n",
        "    grads_dy = tape.gradient(d_y_loss, disc_y.trainable_variables)\n",
        "\n",
        "    opt_g.apply_gradients(zip(grads_g, gen_g.trainable_variables))\n",
        "    opt_f.apply_gradients(zip(grads_f, gen_f.trainable_variables))\n",
        "    opt_dx.apply_gradients(zip(grads_dx, disc_x.trainable_variables))\n",
        "    opt_dy.apply_gradients(zip(grads_dy, disc_y.trainable_variables))"
      ],
      "metadata": {
        "id": "uKAb82GjKjh6"
      },
      "execution_count": null,
      "outputs": []
    },
    {
      "cell_type": "markdown",
      "source": [
        "training loop"
      ],
      "metadata": {
        "id": "hn_KwB1qKlq7"
      }
    },
    {
      "cell_type": "code",
      "source": [
        "EPOCHS = 100\n",
        "for epoch in range(1, EPOCHS+1):\n",
        "    for real_black, real_white in tf.data.Dataset.zip((black_ds, white_ds)):\n",
        "        train_step(real_black, real_white)\n",
        "\n",
        "    if epoch % 10 == 0:\n",
        "        print(f\"Finished epoch {epoch}/{EPOCHS}\")"
      ],
      "metadata": {
        "id": "lAPXCrSVKngF",
        "colab": {
          "base_uri": "https://localhost:8080/"
        },
        "outputId": "dbabb5c6-08ed-4356-8be3-37904cb337c3"
      },
      "execution_count": null,
      "outputs": [
        {
          "output_type": "stream",
          "name": "stdout",
          "text": [
            "Finished epoch 10/100\n",
            "Finished epoch 20/100\n",
            "Finished epoch 30/100\n",
            "Finished epoch 40/100\n",
            "Finished epoch 50/100\n",
            "Finished epoch 60/100\n",
            "Finished epoch 70/100\n",
            "Finished epoch 80/100\n",
            "Finished epoch 90/100\n",
            "Finished epoch 100/100\n"
          ]
        }
      ]
    },
    {
      "cell_type": "markdown",
      "source": [
        "generate and save synthetic whitepositive\n"
      ],
      "metadata": {
        "id": "EKokBkSRbNfx"
      }
    },
    {
      "cell_type": "code",
      "source": [
        "def generate_synthetic_images(num_images, output_folder):\n",
        "    os.makedirs(output_folder, exist_ok=True)\n",
        "    it = iter(black_ds)\n",
        "    for i in range(num_images):\n",
        "        try:\n",
        "            inp = next(it)\n",
        "            fake = gen_g(inp, training=False)\n",
        "            img = ((fake[0].numpy() + 1.0) * 127.5).clip(0,255).astype(np.uint8)\n",
        "            Image.fromarray(img).save(os.path.join(output_folder, f\"syn_{i+1:03d}.jpg\"))\n",
        "        except StopIteration:\n",
        "            break\n",
        "\n",
        "syn_folder = os.path.join(base_dir, \"synwhitepositive\")\n",
        "generate_synthetic_images(len(blackpositive), syn_folder)\n",
        "print(f\"Synthetic whitepositive images saved to {syn_folder}\")\n"
      ],
      "metadata": {
        "id": "D-2-tzUYbJV6",
        "colab": {
          "base_uri": "https://localhost:8080/"
        },
        "outputId": "a10cb1ec-ac72-428f-a6dd-daa7cbfb6e53"
      },
      "execution_count": null,
      "outputs": [
        {
          "output_type": "stream",
          "name": "stdout",
          "text": [
            "Synthetic whitepositive images saved to /content/drive/My Drive/images/synwhitepositive\n"
          ]
        }
      ]
    },
    {
      "cell_type": "markdown",
      "source": [
        "# Classifcation Model With Synthetic Images"
      ],
      "metadata": {
        "id": "DLyxdEnn7onr"
      }
    },
    {
      "cell_type": "code",
      "source": [
        "# Generate different sized sets\n",
        "num_images_list = [4, 8, 12, 16, 20, 24]\n",
        "syn_folders = []\n",
        "\n",
        "for num in num_images_list:\n",
        "    folder_name = f\"synwhitepositive_{num}\"\n",
        "    syn_folder = generate_synthetic_images(num, os.path.join(base_dir, folder_name))\n",
        "    syn_folders.append(syn_folder)\n",
        "    print(f\"Generated {num} synthetic images in {folder_name}\")"
      ],
      "metadata": {
        "colab": {
          "base_uri": "https://localhost:8080/"
        },
        "id": "jc5dee0knj4t",
        "outputId": "8848b6f0-17e8-48ba-970a-b49373f5dbb6"
      },
      "execution_count": null,
      "outputs": [
        {
          "output_type": "stream",
          "name": "stdout",
          "text": [
            "Generated 4 synthetic images in synwhitepositive_4\n",
            "Generated 8 synthetic images in synwhitepositive_8\n",
            "Generated 12 synthetic images in synwhitepositive_12\n",
            "Generated 16 synthetic images in synwhitepositive_16\n",
            "Generated 20 synthetic images in synwhitepositive_20\n",
            "Generated 24 synthetic images in synwhitepositive_24\n"
          ]
        }
      ]
    },
    {
      "cell_type": "code",
      "source": [
        "def load_images_from_folder(folder, label):\n",
        "    paths = glob(os.path.join(folder, \"*\"))\n",
        "    data = []\n",
        "    for path in paths:\n",
        "        img = Image.open(path).convert(\"RGB\").resize((128, 128))\n",
        "        img = np.array(img).astype(np.float32) / 255.0  # normalize\n",
        "        data.append((img, label))\n",
        "    return data\n",
        "\n",
        "# Class labels\n",
        "label_map = {\n",
        "    \"none\": 0,\n",
        "    \"other\": 1,\n",
        "    \"positive\": 2,\n",
        "}\n",
        "\n",
        "# Paths to all folders\n",
        "all_data = []\n",
        "\n",
        "for skintone in [\"black\", \"white\"]:\n",
        "    for subtype in [\"none\", \"other\", \"positive\"]:\n",
        "        folder = os.path.join(base_dir, f\"{skintone}{subtype}\")\n",
        "        label = label_map[subtype]\n",
        "        all_data.extend(load_images_from_folder(folder, label))\n",
        "\n",
        "# Add synthetic whitepositive\n",
        "all_data.extend(load_images_from_folder(syn_folder, label_map[\"positive\"]))"
      ],
      "metadata": {
        "id": "bocZJPlw7n4j"
      },
      "execution_count": null,
      "outputs": []
    },
    {
      "cell_type": "code",
      "source": [
        "# Shuffle and split\n",
        "random.shuffle(all_data)\n",
        "X, y = zip(*all_data)\n",
        "X = np.array(X)\n",
        "y = np.array(y)\n",
        "\n",
        "# Train/test split\n",
        "X_train, X_test, y_train, y_test = train_test_split(X, y, test_size=0.2, stratify=y)\n",
        "\n",
        "# Convert to TensorFlow datasets\n",
        "train_ds = tf.data.Dataset.from_tensor_slices((X_train, y_train)).shuffle(1000).batch(32)\n",
        "test_ds = tf.data.Dataset.from_tensor_slices((X_test, y_test)).batch(32)"
      ],
      "metadata": {
        "id": "e_0xbB_rYlwK"
      },
      "execution_count": null,
      "outputs": []
    },
    {
      "cell_type": "code",
      "source": [
        "model = models.Sequential([\n",
        "    layers.Input(shape=(128, 128, 3)),\n",
        "    layers.Conv2D(32, 3, activation='relu'),\n",
        "    layers.MaxPooling2D(),\n",
        "    layers.Conv2D(64, 3, activation='relu'),\n",
        "    layers.MaxPooling2D(),\n",
        "    layers.Flatten(),\n",
        "    layers.Dense(64, activation='relu'),\n",
        "    layers.Dense(3, activation='softmax')  # 3 classes\n",
        "])\n",
        "\n",
        "model.compile(optimizer='adam', loss='sparse_categorical_crossentropy', metrics=['accuracy'])\n",
        "\n",
        "history = model.fit(train_ds, epochs=6, validation_data=test_ds)\n",
        "\n",
        "def evaluate_with_synthetic(syn_folder):\n",
        "    # Load all data\n",
        "    all_data = []\n",
        "\n",
        "    # Original categories\n",
        "    for skintone in [\"black\", \"white\"]:\n",
        "        for subtype in [\"none\", \"other\", \"positive\"]:\n",
        "            folder = os.path.join(base_dir, f\"{skintone}{subtype}\")\n",
        "            label = label_map[subtype]\n",
        "            all_data.extend(load_images_from_folder(folder, label))\n",
        "\n",
        "\n",
        "     # Add synthetic images only if syn_folder is provided\n",
        "    if syn_folder:  # Check if syn_folder is not None\n",
        "        all_data.extend(load_images_from_folder(os.path.join(base_dir, syn_folder), label_map[\"positive\"]))\n",
        "\n",
        "    # Prepare dataset\n",
        "    random.shuffle(all_data)\n",
        "    X, y = zip(*all_data)\n",
        "    X = np.array(X)\n",
        "    y = np.array(y)\n",
        "\n",
        "    # Split\n",
        "    X_train, X_test, y_train, y_test = train_test_split(X, y, test_size=0.2, stratify=y)\n",
        "\n",
        "    # Create new model (same architecture)\n",
        "    model = models.Sequential([\n",
        "        layers.Input(shape=(128, 128, 3)),\n",
        "        layers.Conv2D(32, 3, activation='relu'),\n",
        "        layers.MaxPooling2D(),\n",
        "        layers.Conv2D(64, 3, activation='relu'),\n",
        "        layers.MaxPooling2D(),\n",
        "        layers.Flatten(),\n",
        "        layers.Dense(64, activation='relu'),\n",
        "        layers.Dense(3, activation='softmax')\n",
        "    ])\n",
        "    model.compile(optimizer='adam', loss='sparse_categorical_crossentropy', metrics=['accuracy'])\n",
        "\n",
        "    # Train and evaluate\n",
        "    history = model.fit(train_ds, epochs=6, validation_data=test_ds, verbose=0)\n",
        "    y_pred = model.predict(X_test)\n",
        "    y_pred_classes = np.argmax(y_pred, axis=1)\n",
        "    return accuracy_score(y_test, y_pred_classes)\n",
        "\n",
        "# Evaluate all configurations\n",
        "accuracies = []\n",
        "config_names = [\"Original (No Synth)\"] + [f\"{num} Synth\" for num in num_images_list]\n",
        "\n",
        "# Baseline (no synthetic)\n",
        "baseline_acc = evaluate_with_synthetic(None)\n",
        "accuracies.append(baseline_acc)\n",
        "\n",
        "# With each synthetic set\n",
        "for i, folder in enumerate(syn_folders):\n",
        "    acc = evaluate_with_synthetic(folder)\n",
        "    accuracies.append(acc)\n",
        "    print(f\"Accuracy with {num_images_list[i]} synthetic images: {acc:.4f}\")\n",
        "\n",
        "# Visualization\n",
        "plt.figure(figsize=(10, 6))\n",
        "plt.bar(config_names, accuracies, color=['blue', 'green', 'orange', 'red', 'purple'])\n",
        "plt.title('Model Accuracy vs Number of Synthetic Images')\n",
        "plt.xlabel('Dataset Configuration')\n",
        "plt.ylabel('Accuracy')\n",
        "plt.ylim(0, 1.0)\n",
        "for i, v in enumerate(accuracies):\n",
        "    plt.text(i, v + 0.02, f\"{v:.3f}\", ha='center')\n",
        "plt.grid(True, linestyle='--', alpha=0.7)\n",
        "plt.tight_layout()\n",
        "plt.show()"
      ],
      "metadata": {
        "id": "g95RYhT-YnkJ",
        "colab": {
          "base_uri": "https://localhost:8080/",
          "height": 1000
        },
        "outputId": "00febabd-4bdb-4544-8efc-e3f1ad2c931f"
      },
      "execution_count": null,
      "outputs": [
        {
          "output_type": "stream",
          "name": "stdout",
          "text": [
            "Epoch 1/6\n",
            "\u001b[1m3/3\u001b[0m \u001b[32m━━━━━━━━━━━━━━━━━━━━\u001b[0m\u001b[37m\u001b[0m \u001b[1m7s\u001b[0m 1s/step - accuracy: 0.3941 - loss: 1.6010 - val_accuracy: 0.3478 - val_loss: 1.3034\n",
            "Epoch 2/6\n",
            "\u001b[1m3/3\u001b[0m \u001b[32m━━━━━━━━━━━━━━━━━━━━\u001b[0m\u001b[37m\u001b[0m \u001b[1m5s\u001b[0m 25ms/step - accuracy: 0.4087 - loss: 1.0372 - val_accuracy: 0.6087 - val_loss: 0.9982\n",
            "Epoch 3/6\n",
            "\u001b[1m3/3\u001b[0m \u001b[32m━━━━━━━━━━━━━━━━━━━━\u001b[0m\u001b[37m\u001b[0m \u001b[1m0s\u001b[0m 26ms/step - accuracy: 0.6626 - loss: 0.8798 - val_accuracy: 0.5652 - val_loss: 0.7971\n",
            "Epoch 4/6\n",
            "\u001b[1m3/3\u001b[0m \u001b[32m━━━━━━━━━━━━━━━━━━━━\u001b[0m\u001b[37m\u001b[0m \u001b[1m0s\u001b[0m 25ms/step - accuracy: 0.7008 - loss: 0.7366 - val_accuracy: 0.6522 - val_loss: 0.7071\n",
            "Epoch 5/6\n",
            "\u001b[1m3/3\u001b[0m \u001b[32m━━━━━━━━━━━━━━━━━━━━\u001b[0m\u001b[37m\u001b[0m \u001b[1m0s\u001b[0m 24ms/step - accuracy: 0.7746 - loss: 0.5941 - val_accuracy: 0.6957 - val_loss: 0.7287\n",
            "Epoch 6/6\n",
            "\u001b[1m3/3\u001b[0m \u001b[32m━━━━━━━━━━━━━━━━━━━━\u001b[0m\u001b[37m\u001b[0m \u001b[1m0s\u001b[0m 24ms/step - accuracy: 0.8559 - loss: 0.5121 - val_accuracy: 0.7391 - val_loss: 0.6353\n",
            "\u001b[1m1/1\u001b[0m \u001b[32m━━━━━━━━━━━━━━━━━━━━\u001b[0m\u001b[37m\u001b[0m \u001b[1m1s\u001b[0m 661ms/step\n",
            "\u001b[1m1/1\u001b[0m \u001b[32m━━━━━━━━━━━━━━━━━━━━\u001b[0m\u001b[37m\u001b[0m \u001b[1m0s\u001b[0m 282ms/step\n",
            "Accuracy with 4 synthetic images: 0.8333\n",
            "\u001b[1m1/1\u001b[0m \u001b[32m━━━━━━━━━━━━━━━━━━━━\u001b[0m\u001b[37m\u001b[0m \u001b[1m0s\u001b[0m 223ms/step\n",
            "Accuracy with 8 synthetic images: 0.7778\n",
            "\u001b[1m1/1\u001b[0m \u001b[32m━━━━━━━━━━━━━━━━━━━━\u001b[0m\u001b[37m\u001b[0m \u001b[1m0s\u001b[0m 337ms/step\n",
            "Accuracy with 12 synthetic images: 0.6667\n"
          ]
        },
        {
          "output_type": "stream",
          "name": "stderr",
          "text": [
            "WARNING:tensorflow:5 out of the last 5 calls to <function TensorFlowTrainer.make_predict_function.<locals>.one_step_on_data_distributed at 0x78b709071a80> triggered tf.function retracing. Tracing is expensive and the excessive number of tracings could be due to (1) creating @tf.function repeatedly in a loop, (2) passing tensors with different shapes, (3) passing Python objects instead of tensors. For (1), please define your @tf.function outside of the loop. For (2), @tf.function has reduce_retracing=True option that can avoid unnecessary retracing. For (3), please refer to https://www.tensorflow.org/guide/function#controlling_retracing and https://www.tensorflow.org/api_docs/python/tf/function for  more details.\n"
          ]
        },
        {
          "output_type": "stream",
          "name": "stdout",
          "text": [
            "\u001b[1m1/1\u001b[0m \u001b[32m━━━━━━━━━━━━━━━━━━━━\u001b[0m\u001b[37m\u001b[0m \u001b[1m0s\u001b[0m 221ms/step\n",
            "Accuracy with 16 synthetic images: 0.6667\n"
          ]
        },
        {
          "output_type": "stream",
          "name": "stderr",
          "text": [
            "WARNING:tensorflow:6 out of the last 6 calls to <function TensorFlowTrainer.make_predict_function.<locals>.one_step_on_data_distributed at 0x78b6f0d1df80> triggered tf.function retracing. Tracing is expensive and the excessive number of tracings could be due to (1) creating @tf.function repeatedly in a loop, (2) passing tensors with different shapes, (3) passing Python objects instead of tensors. For (1), please define your @tf.function outside of the loop. For (2), @tf.function has reduce_retracing=True option that can avoid unnecessary retracing. For (3), please refer to https://www.tensorflow.org/guide/function#controlling_retracing and https://www.tensorflow.org/api_docs/python/tf/function for  more details.\n"
          ]
        },
        {
          "output_type": "stream",
          "name": "stdout",
          "text": [
            "\u001b[1m1/1\u001b[0m \u001b[32m━━━━━━━━━━━━━━━━━━━━\u001b[0m\u001b[37m\u001b[0m \u001b[1m0s\u001b[0m 352ms/step\n",
            "Accuracy with 20 synthetic images: 0.8333\n",
            "\u001b[1m1/1\u001b[0m \u001b[32m━━━━━━━━━━━━━━━━━━━━\u001b[0m\u001b[37m\u001b[0m \u001b[1m0s\u001b[0m 227ms/step\n",
            "Accuracy with 24 synthetic images: 0.7778\n"
          ]
        },
        {
          "output_type": "display_data",
          "data": {
            "text/plain": [
              "<Figure size 1000x600 with 1 Axes>"
            ],
            "image/png": "[encoded data removed]"
          },
          "metadata": {}
        }
      ]
    },
    {
      "cell_type": "markdown",
      "source": [
        "Test Accuracy: 75%"
      ],
      "metadata": {
        "id": "LIIconlIM-Lw"
      }
    }
  ]
}