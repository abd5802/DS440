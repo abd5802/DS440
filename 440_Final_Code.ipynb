{
  "nbformat": 4,
  "nbformat_minor": 0,
  "metadata": {
    "colab": {
      "provenance": [],
      "gpuType": "T4"
    },
    "kernelspec": {
      "name": "python3",
      "display_name": "Python 3"
    },
    "language_info": {
      "name": "python"
    },
    "accelerator": "GPU"
  },
  "cells": [
    {
      "cell_type": "markdown",
      "source": [
        "#Pull in Data"
      ],
      "metadata": {
        "id": "A9ZCbn4B63WY"
      }
    },
    {
      "cell_type": "markdown",
      "source": [
        "Starting With:\n",
        "* 26 Black Positive\n",
        "* 14 White Positive\n",
        "* 14 Black None\n",
        "* 8 White None\n",
        "* 8 Black Other\n",
        "* 15 White Other\n"
      ],
      "metadata": {
        "id": "KRGFAT667LQ1"
      }
    },
    {
      "cell_type": "code",
      "execution_count": 1,
      "metadata": {
        "id": "Q7Q6d4uF6AgR",
        "colab": {
          "base_uri": "https://localhost:8080/"
        },
        "outputId": "6ca040ce-339f-4b85-a1fc-6afa550f66ce"
      },
      "outputs": [
        {
          "output_type": "stream",
          "name": "stdout",
          "text": [
            "Mounted at /content/drive\n",
            "blacknone: 14\n",
            "blackother: 8\n",
            "blackpositive: 26\n",
            "whitenone: 11\n",
            "whiteother: 15\n",
            "whitepositive: 14\n"
          ]
        }
      ],
      "source": [
        "from google.colab import drive\n",
        "import os\n",
        "from glob import glob\n",
        "\n",
        "# Step 1: Mount Google Drive\n",
        "drive.mount('/content/drive')\n",
        "\n",
        "# Step 2: Define base directory\n",
        "base_dir = \"/content/drive/My Drive/images\"\n",
        "\n",
        "# Step 3: Define folder names\n",
        "folders = [\"blacknone\", \"blackother\", \"blackpositive\", \"whitenone\", \"whiteother\", \"whitepositive\"]\n",
        "\n",
        "# Step 4: Create variables for each folder\n",
        "blacknone = glob(os.path.join(base_dir, \"blacknone\", \"*\"))\n",
        "blackother = glob(os.path.join(base_dir, \"blackother\", \"*\"))\n",
        "blackpositive = glob(os.path.join(base_dir, \"blackpositive\", \"*\"))\n",
        "whitenone = glob(os.path.join(base_dir, \"whitenone\", \"*\"))\n",
        "whiteother = glob(os.path.join(base_dir, \"whiteother\", \"*\"))\n",
        "whitepositive = glob(os.path.join(base_dir, \"whitepositive\", \"*\"))\n",
        "\n",
        "# Optional: Print number of images in each\n",
        "print(\"blacknone:\", len(blacknone))\n",
        "print(\"blackother:\", len(blackother))\n",
        "print(\"blackpositive:\", len(blackpositive))\n",
        "print(\"whitenone:\", len(whitenone))\n",
        "print(\"whiteother:\", len(whiteother))\n",
        "print(\"whitepositive:\", len(whitepositive))\n"
      ]
    },
    {
      "cell_type": "markdown",
      "source": [
        "# Baseline Classifcation Model"
      ],
      "metadata": {
        "id": "ghPbUpNj8UiD"
      }
    },
    {
      "cell_type": "code",
      "source": [
        "import tensorflow as tf\n",
        "from tensorflow.keras.preprocessing.image import ImageDataGenerator\n",
        "import os\n",
        "\n",
        "# Define paths\n",
        "base_dir = \"/content/drive/My Drive/images\"\n",
        "\n",
        "# Set parameters\n",
        "img_size = (224, 224)\n",
        "batch_size = 32\n",
        "\n",
        "# Create ImageDataGenerators for loading data\n",
        "datagen = ImageDataGenerator(\n",
        "    rescale=1./255,\n",
        "    validation_split=0.2  # 80/20 train/val split\n",
        ")\n",
        "\n",
        "# Load training data\n",
        "train_data = datagen.flow_from_directory(\n",
        "    base_dir,\n",
        "    target_size=img_size,\n",
        "    batch_size=batch_size,\n",
        "    class_mode='categorical',\n",
        "    subset='training',\n",
        "    shuffle=True\n",
        ")\n",
        "\n",
        "# Load validation data\n",
        "val_data = datagen.flow_from_directory(\n",
        "    base_dir,\n",
        "    target_size=img_size,\n",
        "    batch_size=batch_size,\n",
        "    class_mode='categorical',\n",
        "    subset='validation',\n",
        "    shuffle=False\n",
        ")\n",
        "\n",
        "# Show class indices\n",
        "print(\"Class Indices:\", train_data.class_indices)\n",
        "\n",
        "\n"
      ],
      "metadata": {
        "id": "gs3NtdOE8ZiW",
        "colab": {
          "base_uri": "https://localhost:8080/"
        },
        "outputId": "a6504b10-1392-4959-be11-2da84cfd0e33"
      },
      "execution_count": 2,
      "outputs": [
        {
          "output_type": "stream",
          "name": "stdout",
          "text": [
            "Found 73 images belonging to 6 classes.\n",
            "Found 15 images belonging to 6 classes.\n",
            "Class Indices: {'blacknone': 0, 'blackother': 1, 'blackpositive': 2, 'whitenone': 3, 'whiteother': 4, 'whitepositive': 5}\n"
          ]
        }
      ]
    },
    {
      "cell_type": "code",
      "source": [
        "model = tf.keras.Sequential([\n",
        "    tf.keras.layers.Conv2D(32, (3, 3), activation='relu', input_shape=(*img_size, 3)),\n",
        "    tf.keras.layers.MaxPooling2D(2, 2),\n",
        "\n",
        "    tf.keras.layers.Conv2D(64, (3, 3), activation='relu'),\n",
        "    tf.keras.layers.MaxPooling2D(2, 2),\n",
        "\n",
        "    tf.keras.layers.Conv2D(128, (3, 3), activation='relu'),\n",
        "    tf.keras.layers.MaxPooling2D(2, 2),\n",
        "\n",
        "    tf.keras.layers.Flatten(),\n",
        "    tf.keras.layers.Dense(128, activation='relu'),\n",
        "    tf.keras.layers.Dense(6, activation='softmax')  # 6 classes\n",
        "])\n",
        "\n",
        "model.compile(optimizer='adam',\n",
        "              loss='categorical_crossentropy',\n",
        "              metrics=['accuracy'])\n",
        "\n",
        "model.summary()\n"
      ],
      "metadata": {
        "colab": {
          "base_uri": "https://localhost:8080/",
          "height": 497
        },
        "id": "Pv3C8hCh9qbl",
        "outputId": "dc23d085-13bd-4a1e-90ff-124932aedb17"
      },
      "execution_count": 3,
      "outputs": [
        {
          "output_type": "stream",
          "name": "stderr",
          "text": [
            "/usr/local/lib/python3.11/dist-packages/keras/src/layers/convolutional/base_conv.py:107: UserWarning: Do not pass an `input_shape`/`input_dim` argument to a layer. When using Sequential models, prefer using an `Input(shape)` object as the first layer in the model instead.\n",
            "  super().__init__(activity_regularizer=activity_regularizer, **kwargs)\n"
          ]
        },
        {
          "output_type": "display_data",
          "data": {
            "text/plain": [
              "\u001b[1mModel: \"sequential\"\u001b[0m\n"
            ],
            "text/html": [
              "<pre style=\"white-space:pre;overflow-x:auto;line-height:normal;font-family:Menlo,'DejaVu Sans Mono',consolas,'Courier New',monospace\"><span style=\"font-weight: bold\">Model: \"sequential\"</span>\n",
              "</pre>\n"
            ]
          },
          "metadata": {}
        },
        {
          "output_type": "display_data",
          "data": {
            "text/plain": [
              "┏━━━━━━━━━━━━━━━━━━━━━━━━━━━━━━━━━┳━━━━━━━━━━━━━━━━━━━━━━━━┳━━━━━━━━━━━━━━━┓\n",
              "┃\u001b[1m \u001b[0m\u001b[1mLayer (type)                   \u001b[0m\u001b[1m \u001b[0m┃\u001b[1m \u001b[0m\u001b[1mOutput Shape          \u001b[0m\u001b[1m \u001b[0m┃\u001b[1m \u001b[0m\u001b[1m      Param #\u001b[0m\u001b[1m \u001b[0m┃\n",
              "┡━━━━━━━━━━━━━━━━━━━━━━━━━━━━━━━━━╇━━━━━━━━━━━━━━━━━━━━━━━━╇━━━━━━━━━━━━━━━┩\n",
              "│ conv2d (\u001b[38;5;33mConv2D\u001b[0m)                 │ (\u001b[38;5;45mNone\u001b[0m, \u001b[38;5;34m222\u001b[0m, \u001b[38;5;34m222\u001b[0m, \u001b[38;5;34m32\u001b[0m)   │           \u001b[38;5;34m896\u001b[0m │\n",
              "├─────────────────────────────────┼────────────────────────┼───────────────┤\n",
              "│ max_pooling2d (\u001b[38;5;33mMaxPooling2D\u001b[0m)    │ (\u001b[38;5;45mNone\u001b[0m, \u001b[38;5;34m111\u001b[0m, \u001b[38;5;34m111\u001b[0m, \u001b[38;5;34m32\u001b[0m)   │             \u001b[38;5;34m0\u001b[0m │\n",
              "├─────────────────────────────────┼────────────────────────┼───────────────┤\n",
              "│ conv2d_1 (\u001b[38;5;33mConv2D\u001b[0m)               │ (\u001b[38;5;45mNone\u001b[0m, \u001b[38;5;34m109\u001b[0m, \u001b[38;5;34m109\u001b[0m, \u001b[38;5;34m64\u001b[0m)   │        \u001b[38;5;34m18,496\u001b[0m │\n",
              "├─────────────────────────────────┼────────────────────────┼───────────────┤\n",
              "│ max_pooling2d_1 (\u001b[38;5;33mMaxPooling2D\u001b[0m)  │ (\u001b[38;5;45mNone\u001b[0m, \u001b[38;5;34m54\u001b[0m, \u001b[38;5;34m54\u001b[0m, \u001b[38;5;34m64\u001b[0m)     │             \u001b[38;5;34m0\u001b[0m │\n",
              "├─────────────────────────────────┼────────────────────────┼───────────────┤\n",
              "│ conv2d_2 (\u001b[38;5;33mConv2D\u001b[0m)               │ (\u001b[38;5;45mNone\u001b[0m, \u001b[38;5;34m52\u001b[0m, \u001b[38;5;34m52\u001b[0m, \u001b[38;5;34m128\u001b[0m)    │        \u001b[38;5;34m73,856\u001b[0m │\n",
              "├─────────────────────────────────┼────────────────────────┼───────────────┤\n",
              "│ max_pooling2d_2 (\u001b[38;5;33mMaxPooling2D\u001b[0m)  │ (\u001b[38;5;45mNone\u001b[0m, \u001b[38;5;34m26\u001b[0m, \u001b[38;5;34m26\u001b[0m, \u001b[38;5;34m128\u001b[0m)    │             \u001b[38;5;34m0\u001b[0m │\n",
              "├─────────────────────────────────┼────────────────────────┼───────────────┤\n",
              "│ flatten (\u001b[38;5;33mFlatten\u001b[0m)               │ (\u001b[38;5;45mNone\u001b[0m, \u001b[38;5;34m86528\u001b[0m)          │             \u001b[38;5;34m0\u001b[0m │\n",
              "├─────────────────────────────────┼────────────────────────┼───────────────┤\n",
              "│ dense (\u001b[38;5;33mDense\u001b[0m)                   │ (\u001b[38;5;45mNone\u001b[0m, \u001b[38;5;34m128\u001b[0m)            │    \u001b[38;5;34m11,075,712\u001b[0m │\n",
              "├─────────────────────────────────┼────────────────────────┼───────────────┤\n",
              "│ dense_1 (\u001b[38;5;33mDense\u001b[0m)                 │ (\u001b[38;5;45mNone\u001b[0m, \u001b[38;5;34m6\u001b[0m)              │           \u001b[38;5;34m774\u001b[0m │\n",
              "└─────────────────────────────────┴────────────────────────┴───────────────┘\n"
            ],
            "text/html": [
              "<pre style=\"white-space:pre;overflow-x:auto;line-height:normal;font-family:Menlo,'DejaVu Sans Mono',consolas,'Courier New',monospace\">┏━━━━━━━━━━━━━━━━━━━━━━━━━━━━━━━━━┳━━━━━━━━━━━━━━━━━━━━━━━━┳━━━━━━━━━━━━━━━┓\n",
              "┃<span style=\"font-weight: bold\"> Layer (type)                    </span>┃<span style=\"font-weight: bold\"> Output Shape           </span>┃<span style=\"font-weight: bold\">       Param # </span>┃\n",
              "┡━━━━━━━━━━━━━━━━━━━━━━━━━━━━━━━━━╇━━━━━━━━━━━━━━━━━━━━━━━━╇━━━━━━━━━━━━━━━┩\n",
              "│ conv2d (<span style=\"color: #0087ff; text-decoration-color: #0087ff\">Conv2D</span>)                 │ (<span style=\"color: #00d7ff; text-decoration-color: #00d7ff\">None</span>, <span style=\"color: #00af00; text-decoration-color: #00af00\">222</span>, <span style=\"color: #00af00; text-decoration-color: #00af00\">222</span>, <span style=\"color: #00af00; text-decoration-color: #00af00\">32</span>)   │           <span style=\"color: #00af00; text-decoration-color: #00af00\">896</span> │\n",
              "├─────────────────────────────────┼────────────────────────┼───────────────┤\n",
              "│ max_pooling2d (<span style=\"color: #0087ff; text-decoration-color: #0087ff\">MaxPooling2D</span>)    │ (<span style=\"color: #00d7ff; text-decoration-color: #00d7ff\">None</span>, <span style=\"color: #00af00; text-decoration-color: #00af00\">111</span>, <span style=\"color: #00af00; text-decoration-color: #00af00\">111</span>, <span style=\"color: #00af00; text-decoration-color: #00af00\">32</span>)   │             <span style=\"color: #00af00; text-decoration-color: #00af00\">0</span> │\n",
              "├─────────────────────────────────┼────────────────────────┼───────────────┤\n",
              "│ conv2d_1 (<span style=\"color: #0087ff; text-decoration-color: #0087ff\">Conv2D</span>)               │ (<span style=\"color: #00d7ff; text-decoration-color: #00d7ff\">None</span>, <span style=\"color: #00af00; text-decoration-color: #00af00\">109</span>, <span style=\"color: #00af00; text-decoration-color: #00af00\">109</span>, <span style=\"color: #00af00; text-decoration-color: #00af00\">64</span>)   │        <span style=\"color: #00af00; text-decoration-color: #00af00\">18,496</span> │\n",
              "├─────────────────────────────────┼────────────────────────┼───────────────┤\n",
              "│ max_pooling2d_1 (<span style=\"color: #0087ff; text-decoration-color: #0087ff\">MaxPooling2D</span>)  │ (<span style=\"color: #00d7ff; text-decoration-color: #00d7ff\">None</span>, <span style=\"color: #00af00; text-decoration-color: #00af00\">54</span>, <span style=\"color: #00af00; text-decoration-color: #00af00\">54</span>, <span style=\"color: #00af00; text-decoration-color: #00af00\">64</span>)     │             <span style=\"color: #00af00; text-decoration-color: #00af00\">0</span> │\n",
              "├─────────────────────────────────┼────────────────────────┼───────────────┤\n",
              "│ conv2d_2 (<span style=\"color: #0087ff; text-decoration-color: #0087ff\">Conv2D</span>)               │ (<span style=\"color: #00d7ff; text-decoration-color: #00d7ff\">None</span>, <span style=\"color: #00af00; text-decoration-color: #00af00\">52</span>, <span style=\"color: #00af00; text-decoration-color: #00af00\">52</span>, <span style=\"color: #00af00; text-decoration-color: #00af00\">128</span>)    │        <span style=\"color: #00af00; text-decoration-color: #00af00\">73,856</span> │\n",
              "├─────────────────────────────────┼────────────────────────┼───────────────┤\n",
              "│ max_pooling2d_2 (<span style=\"color: #0087ff; text-decoration-color: #0087ff\">MaxPooling2D</span>)  │ (<span style=\"color: #00d7ff; text-decoration-color: #00d7ff\">None</span>, <span style=\"color: #00af00; text-decoration-color: #00af00\">26</span>, <span style=\"color: #00af00; text-decoration-color: #00af00\">26</span>, <span style=\"color: #00af00; text-decoration-color: #00af00\">128</span>)    │             <span style=\"color: #00af00; text-decoration-color: #00af00\">0</span> │\n",
              "├─────────────────────────────────┼────────────────────────┼───────────────┤\n",
              "│ flatten (<span style=\"color: #0087ff; text-decoration-color: #0087ff\">Flatten</span>)               │ (<span style=\"color: #00d7ff; text-decoration-color: #00d7ff\">None</span>, <span style=\"color: #00af00; text-decoration-color: #00af00\">86528</span>)          │             <span style=\"color: #00af00; text-decoration-color: #00af00\">0</span> │\n",
              "├─────────────────────────────────┼────────────────────────┼───────────────┤\n",
              "│ dense (<span style=\"color: #0087ff; text-decoration-color: #0087ff\">Dense</span>)                   │ (<span style=\"color: #00d7ff; text-decoration-color: #00d7ff\">None</span>, <span style=\"color: #00af00; text-decoration-color: #00af00\">128</span>)            │    <span style=\"color: #00af00; text-decoration-color: #00af00\">11,075,712</span> │\n",
              "├─────────────────────────────────┼────────────────────────┼───────────────┤\n",
              "│ dense_1 (<span style=\"color: #0087ff; text-decoration-color: #0087ff\">Dense</span>)                 │ (<span style=\"color: #00d7ff; text-decoration-color: #00d7ff\">None</span>, <span style=\"color: #00af00; text-decoration-color: #00af00\">6</span>)              │           <span style=\"color: #00af00; text-decoration-color: #00af00\">774</span> │\n",
              "└─────────────────────────────────┴────────────────────────┴───────────────┘\n",
              "</pre>\n"
            ]
          },
          "metadata": {}
        },
        {
          "output_type": "display_data",
          "data": {
            "text/plain": [
              "\u001b[1m Total params: \u001b[0m\u001b[38;5;34m11,169,734\u001b[0m (42.61 MB)\n"
            ],
            "text/html": [
              "<pre style=\"white-space:pre;overflow-x:auto;line-height:normal;font-family:Menlo,'DejaVu Sans Mono',consolas,'Courier New',monospace\"><span style=\"font-weight: bold\"> Total params: </span><span style=\"color: #00af00; text-decoration-color: #00af00\">11,169,734</span> (42.61 MB)\n",
              "</pre>\n"
            ]
          },
          "metadata": {}
        },
        {
          "output_type": "display_data",
          "data": {
            "text/plain": [
              "\u001b[1m Trainable params: \u001b[0m\u001b[38;5;34m11,169,734\u001b[0m (42.61 MB)\n"
            ],
            "text/html": [
              "<pre style=\"white-space:pre;overflow-x:auto;line-height:normal;font-family:Menlo,'DejaVu Sans Mono',consolas,'Courier New',monospace\"><span style=\"font-weight: bold\"> Trainable params: </span><span style=\"color: #00af00; text-decoration-color: #00af00\">11,169,734</span> (42.61 MB)\n",
              "</pre>\n"
            ]
          },
          "metadata": {}
        },
        {
          "output_type": "display_data",
          "data": {
            "text/plain": [
              "\u001b[1m Non-trainable params: \u001b[0m\u001b[38;5;34m0\u001b[0m (0.00 B)\n"
            ],
            "text/html": [
              "<pre style=\"white-space:pre;overflow-x:auto;line-height:normal;font-family:Menlo,'DejaVu Sans Mono',consolas,'Courier New',monospace\"><span style=\"font-weight: bold\"> Non-trainable params: </span><span style=\"color: #00af00; text-decoration-color: #00af00\">0</span> (0.00 B)\n",
              "</pre>\n"
            ]
          },
          "metadata": {}
        }
      ]
    },
    {
      "cell_type": "code",
      "source": [
        "epochs = 7\n",
        "\n",
        "history = model.fit(\n",
        "    train_data,\n",
        "    validation_data=val_data,\n",
        "    epochs=epochs\n",
        ")\n"
      ],
      "metadata": {
        "colab": {
          "base_uri": "https://localhost:8080/"
        },
        "id": "KB5eXMvC9v3Z",
        "outputId": "8a25570e-41e5-47a0-fb3b-f33843d0d2a3"
      },
      "execution_count": 4,
      "outputs": [
        {
          "output_type": "stream",
          "name": "stderr",
          "text": [
            "/usr/local/lib/python3.11/dist-packages/keras/src/trainers/data_adapters/py_dataset_adapter.py:121: UserWarning: Your `PyDataset` class should call `super().__init__(**kwargs)` in its constructor. `**kwargs` can include `workers`, `use_multiprocessing`, `max_queue_size`. Do not pass these arguments to `fit()`, as they will be ignored.\n",
            "  self._warn_if_super_not_called()\n"
          ]
        },
        {
          "output_type": "stream",
          "name": "stdout",
          "text": [
            "Epoch 1/7\n",
            "\u001b[1m3/3\u001b[0m \u001b[32m━━━━━━━━━━━━━━━━━━━━\u001b[0m\u001b[37m\u001b[0m \u001b[1m20s\u001b[0m 7s/step - accuracy: 0.1302 - loss: 3.0497 - val_accuracy: 0.3333 - val_loss: 1.6150\n",
            "Epoch 2/7\n",
            "\u001b[1m3/3\u001b[0m \u001b[32m━━━━━━━━━━━━━━━━━━━━\u001b[0m\u001b[37m\u001b[0m \u001b[1m2s\u001b[0m 681ms/step - accuracy: 0.3187 - loss: 1.6096 - val_accuracy: 0.3333 - val_loss: 1.5201\n",
            "Epoch 3/7\n",
            "\u001b[1m3/3\u001b[0m \u001b[32m━━━━━━━━━━━━━━━━━━━━\u001b[0m\u001b[37m\u001b[0m \u001b[1m3s\u001b[0m 1s/step - accuracy: 0.4591 - loss: 1.4526 - val_accuracy: 0.4667 - val_loss: 1.4520\n",
            "Epoch 4/7\n",
            "\u001b[1m3/3\u001b[0m \u001b[32m━━━━━━━━━━━━━━━━━━━━\u001b[0m\u001b[37m\u001b[0m \u001b[1m5s\u001b[0m 726ms/step - accuracy: 0.4307 - loss: 1.4037 - val_accuracy: 0.3333 - val_loss: 1.4322\n",
            "Epoch 5/7\n",
            "\u001b[1m3/3\u001b[0m \u001b[32m━━━━━━━━━━━━━━━━━━━━\u001b[0m\u001b[37m\u001b[0m \u001b[1m3s\u001b[0m 634ms/step - accuracy: 0.3793 - loss: 1.2848 - val_accuracy: 0.2667 - val_loss: 1.3450\n",
            "Epoch 6/7\n",
            "\u001b[1m3/3\u001b[0m \u001b[32m━━━━━━━━━━━━━━━━━━━━\u001b[0m\u001b[37m\u001b[0m \u001b[1m2s\u001b[0m 912ms/step - accuracy: 0.5931 - loss: 1.1328 - val_accuracy: 0.5333 - val_loss: 1.2379\n",
            "Epoch 7/7\n",
            "\u001b[1m3/3\u001b[0m \u001b[32m━━━━━━━━━━━━━━━━━━━━\u001b[0m\u001b[37m\u001b[0m \u001b[1m2s\u001b[0m 1s/step - accuracy: 0.6540 - loss: 0.9505 - val_accuracy: 0.4667 - val_loss: 1.3231\n"
          ]
        }
      ]
    },
    {
      "cell_type": "markdown",
      "source": [
        "For baseline model:\n",
        "* Accuracy: 0.65\n",
        "* Loss: 0.95\n",
        "* Validation Accuracy: 0.47\n",
        "* Validation Loss: 1.3231"
      ],
      "metadata": {
        "id": "LixT-pHjBeCr"
      }
    },
    {
      "cell_type": "markdown",
      "source": [
        "# Generate white postitive (Cycle GAN)"
      ],
      "metadata": {
        "id": "-LyGK6Si7oT5"
      }
    },
    {
      "cell_type": "code",
      "source": [
        "%%capture\n",
        "!pip install tensorflow tensorflow-datasets matplotlib"
      ],
      "metadata": {
        "id": "vWWbzFGW7oEA"
      },
      "execution_count": 5,
      "outputs": []
    },
    {
      "cell_type": "code",
      "source": [
        "%%capture\n",
        "!pip install git+https://github.com/tensorflow/examples.git\n",
        "!pip install tensorflow matplotlib"
      ],
      "metadata": {
        "id": "n4alWteBFuQ5"
      },
      "execution_count": 6,
      "outputs": []
    },
    {
      "cell_type": "code",
      "source": [
        "from google.colab import drive\n",
        "from glob import glob\n",
        "import os\n",
        "\n",
        "drive.mount('/content/drive')\n",
        "\n",
        "base_dir = \"/content/drive/My Drive/images\"\n",
        "blackpositive_paths = glob(os.path.join(base_dir, \"blackpositive\", \"*\"))\n",
        "whitepositive_paths = glob(os.path.join(base_dir, \"whitepositive\", \"*\"))\n"
      ],
      "metadata": {
        "colab": {
          "base_uri": "https://localhost:8080/"
        },
        "id": "W7tZmsr0IM5m",
        "outputId": "78e732ef-70e3-4565-96f3-eba95bebdc01"
      },
      "execution_count": 7,
      "outputs": [
        {
          "output_type": "stream",
          "name": "stdout",
          "text": [
            "Drive already mounted at /content/drive; to attempt to forcibly remount, call drive.mount(\"/content/drive\", force_remount=True).\n"
          ]
        }
      ]
    },
    {
      "cell_type": "code",
      "source": [
        "from PIL import Image\n",
        "import numpy as np\n",
        "import tensorflow as tf\n",
        "\n",
        "IMG_SIZE = 256\n",
        "\n",
        "def load_and_preprocess_image(path):\n",
        "    img = Image.open(path).convert(\"RGB\").resize((IMG_SIZE, IMG_SIZE))\n",
        "    img = np.array(img).astype(np.float32)\n",
        "    img = (img / 127.5) - 1.0  # Normalize to [-1, 1]\n",
        "    return img\n",
        "\n",
        "def make_dataset(path_list):\n",
        "    images = [load_and_preprocess_image(p) for p in path_list]\n",
        "    return tf.data.Dataset.from_tensor_slices(images).shuffle(100).batch(1)\n",
        "\n",
        "black_ds = make_dataset(blackpositive_paths)\n",
        "white_ds = make_dataset(whitepositive_paths)\n"
      ],
      "metadata": {
        "id": "KOYrpIw9IO6M"
      },
      "execution_count": 8,
      "outputs": []
    },
    {
      "cell_type": "code",
      "source": [
        "from tensorflow_examples.models.pix2pix import pix2pix\n",
        "\n",
        "OUTPUT_CHANNELS = 3\n",
        "generator_g = pix2pix.unet_generator(OUTPUT_CHANNELS, norm_type='instancenorm')\n"
      ],
      "metadata": {
        "id": "IOYvzw4LIQcU"
      },
      "execution_count": 9,
      "outputs": []
    },
    {
      "cell_type": "code",
      "source": [
        "import matplotlib.pyplot as plt\n",
        "\n",
        "example = next(iter(black_ds))\n",
        "fake_white = generator_g(example, training=False)\n",
        "\n",
        "def show_images(original, generated):\n",
        "    plt.figure(figsize=(8, 4))\n",
        "    images = [original[0], generated[0]]\n",
        "    titles = ['Black Positive (Input)', 'Synthetic White (Output)']\n",
        "\n",
        "    for i in range(2):\n",
        "        img = (images[i] + 1) * 127.5  # Denormalize\n",
        "        plt.subplot(1, 2, i+1)\n",
        "        plt.title(titles[i])\n",
        "        plt.imshow(tf.cast(img, tf.uint8))\n",
        "        plt.axis(\"off\")\n",
        "    plt.show()\n",
        "\n",
        "#show_images(example, fake_white)\n"
      ],
      "metadata": {
        "id": "efaVuXAVISD7"
      },
      "execution_count": 10,
      "outputs": []
    },
    {
      "cell_type": "markdown",
      "source": [
        "# Save Images to Drive"
      ],
      "metadata": {
        "id": "ur7mieMYYM3p"
      }
    },
    {
      "cell_type": "code",
      "source": [
        "import os\n",
        "from PIL import Image\n",
        "\n",
        "# Define output directory\n",
        "output_dir = os.path.join(base_dir, \"synwhitepositive\")\n",
        "os.makedirs(output_dir, exist_ok=True)\n",
        "\n",
        "# Reset dataset iterator\n",
        "black_ds_iter = iter(black_ds)\n",
        "\n",
        "# Generate and save 12 images\n",
        "for i in range(12):\n",
        "    try:\n",
        "        input_image = next(black_ds_iter)\n",
        "        fake_white = generator_g(input_image, training=False)\n",
        "\n",
        "        # Convert from [-1, 1] to [0, 255]\n",
        "        output_img = (fake_white[0].numpy() + 1.0) * 127.5\n",
        "        output_img = tf.clip_by_value(output_img, 0, 255)\n",
        "        output_img = tf.cast(output_img, tf.uint8).numpy()\n",
        "\n",
        "        # Save image using PIL\n",
        "        save_path = os.path.join(output_dir, f\"syn_white_{i+1:02}.jpg\")\n",
        "        Image.fromarray(output_img).save(save_path)\n",
        "        print(f\"Saved: {save_path}\")\n",
        "\n",
        "    except StopIteration:\n",
        "        print(\"Not enough images in blackpositive to generate 12.\")\n",
        "        break\n"
      ],
      "metadata": {
        "colab": {
          "base_uri": "https://localhost:8080/"
        },
        "id": "KdC_hrltYSSu",
        "outputId": "126bf6bf-aefb-4c90-deb0-5c5fc612a902"
      },
      "execution_count": 11,
      "outputs": [
        {
          "output_type": "stream",
          "name": "stdout",
          "text": [
            "Saved: /content/drive/My Drive/images/synwhitepositive/syn_white_01.jpg\n",
            "Saved: /content/drive/My Drive/images/synwhitepositive/syn_white_02.jpg\n",
            "Saved: /content/drive/My Drive/images/synwhitepositive/syn_white_03.jpg\n",
            "Saved: /content/drive/My Drive/images/synwhitepositive/syn_white_04.jpg\n",
            "Saved: /content/drive/My Drive/images/synwhitepositive/syn_white_05.jpg\n",
            "Saved: /content/drive/My Drive/images/synwhitepositive/syn_white_06.jpg\n",
            "Saved: /content/drive/My Drive/images/synwhitepositive/syn_white_07.jpg\n",
            "Saved: /content/drive/My Drive/images/synwhitepositive/syn_white_08.jpg\n",
            "Saved: /content/drive/My Drive/images/synwhitepositive/syn_white_09.jpg\n",
            "Saved: /content/drive/My Drive/images/synwhitepositive/syn_white_10.jpg\n",
            "Saved: /content/drive/My Drive/images/synwhitepositive/syn_white_11.jpg\n",
            "Saved: /content/drive/My Drive/images/synwhitepositive/syn_white_12.jpg\n"
          ]
        }
      ]
    },
    {
      "cell_type": "markdown",
      "source": [
        "# Classifcation Model With Synthetic Images"
      ],
      "metadata": {
        "id": "DLyxdEnn7onr"
      }
    },
    {
      "cell_type": "code",
      "source": [
        "from glob import glob\n",
        "from PIL import Image\n",
        "import numpy as np\n",
        "\n",
        "def load_images_from_folder(folder, label):\n",
        "    paths = glob(os.path.join(folder, \"*\"))\n",
        "    data = []\n",
        "    for path in paths:\n",
        "        img = Image.open(path).convert(\"RGB\").resize((128, 128))\n",
        "        img = np.array(img).astype(np.float32) / 255.0  # normalize\n",
        "        data.append((img, label))\n",
        "    return data\n",
        "\n",
        "# Class labels\n",
        "label_map = {\n",
        "    \"none\": 0,\n",
        "    \"other\": 1,\n",
        "    \"positive\": 2,\n",
        "}\n",
        "\n",
        "# Paths to all folders\n",
        "all_data = []\n",
        "\n",
        "for skintone in [\"black\", \"white\"]:\n",
        "    for subtype in [\"none\", \"other\", \"positive\"]:\n",
        "        folder = os.path.join(base_dir, f\"{skintone}{subtype}\")\n",
        "        label = label_map[subtype]\n",
        "        all_data.extend(load_images_from_folder(folder, label))\n",
        "\n",
        "# Add synthetic whitepositive\n",
        "syn_folder = os.path.join(base_dir, \"synwhitepositive\")\n",
        "all_data.extend(load_images_from_folder(syn_folder, label_map[\"positive\"]))\n"
      ],
      "metadata": {
        "id": "bocZJPlw7n4j"
      },
      "execution_count": 12,
      "outputs": []
    },
    {
      "cell_type": "code",
      "source": [
        "import random\n",
        "from sklearn.model_selection import train_test_split\n",
        "import tensorflow as tf\n",
        "\n",
        "# Shuffle and split\n",
        "random.shuffle(all_data)\n",
        "X, y = zip(*all_data)\n",
        "X = np.array(X)\n",
        "y = np.array(y)\n",
        "\n",
        "# Train/test split\n",
        "X_train, X_test, y_train, y_test = train_test_split(X, y, test_size=0.2, stratify=y)\n",
        "\n",
        "# Convert to TensorFlow datasets\n",
        "train_ds = tf.data.Dataset.from_tensor_slices((X_train, y_train)).shuffle(1000).batch(32)\n",
        "test_ds = tf.data.Dataset.from_tensor_slices((X_test, y_test)).batch(32)\n"
      ],
      "metadata": {
        "id": "e_0xbB_rYlwK"
      },
      "execution_count": 13,
      "outputs": []
    },
    {
      "cell_type": "code",
      "source": [
        "from tensorflow.keras import layers, models\n",
        "\n",
        "model = models.Sequential([\n",
        "    layers.Input(shape=(128, 128, 3)),\n",
        "    layers.Conv2D(32, 3, activation='relu'),\n",
        "    layers.MaxPooling2D(),\n",
        "    layers.Conv2D(64, 3, activation='relu'),\n",
        "    layers.MaxPooling2D(),\n",
        "    layers.Flatten(),\n",
        "    layers.Dense(64, activation='relu'),\n",
        "    layers.Dense(3, activation='softmax')  # 3 classes\n",
        "])\n",
        "\n",
        "model.compile(optimizer='adam', loss='sparse_categorical_crossentropy', metrics=['accuracy'])\n",
        "\n",
        "history = model.fit(train_ds, epochs=9, validation_data=test_ds)\n"
      ],
      "metadata": {
        "colab": {
          "base_uri": "https://localhost:8080/"
        },
        "id": "g95RYhT-YnkJ",
        "outputId": "63a7a598-df39-422a-fe67-71324771896d"
      },
      "execution_count": 14,
      "outputs": [
        {
          "output_type": "stream",
          "name": "stdout",
          "text": [
            "Epoch 1/9\n",
            "\u001b[1m3/3\u001b[0m \u001b[32m━━━━━━━━━━━━━━━━━━━━\u001b[0m\u001b[37m\u001b[0m \u001b[1m5s\u001b[0m 1s/step - accuracy: 0.3906 - loss: 1.1545 - val_accuracy: 0.2500 - val_loss: 2.3849\n",
            "Epoch 2/9\n",
            "\u001b[1m3/3\u001b[0m \u001b[32m━━━━━━━━━━━━━━━━━━━━\u001b[0m\u001b[37m\u001b[0m \u001b[1m0s\u001b[0m 17ms/step - accuracy: 0.4430 - loss: 1.6433 - val_accuracy: 0.5000 - val_loss: 1.3775\n",
            "Epoch 3/9\n",
            "\u001b[1m3/3\u001b[0m \u001b[32m━━━━━━━━━━━━━━━━━━━━\u001b[0m\u001b[37m\u001b[0m \u001b[1m0s\u001b[0m 17ms/step - accuracy: 0.6055 - loss: 0.8664 - val_accuracy: 0.7000 - val_loss: 0.8043\n",
            "Epoch 4/9\n",
            "\u001b[1m3/3\u001b[0m \u001b[32m━━━━━━━━━━━━━━━━━━━━\u001b[0m\u001b[37m\u001b[0m \u001b[1m0s\u001b[0m 18ms/step - accuracy: 0.6539 - loss: 0.7373 - val_accuracy: 0.6000 - val_loss: 0.7885\n",
            "Epoch 5/9\n",
            "\u001b[1m3/3\u001b[0m \u001b[32m━━━━━━━━━━━━━━━━━━━━\u001b[0m\u001b[37m\u001b[0m \u001b[1m0s\u001b[0m 17ms/step - accuracy: 0.7023 - loss: 0.6489 - val_accuracy: 0.6500 - val_loss: 0.7436\n",
            "Epoch 6/9\n",
            "\u001b[1m3/3\u001b[0m \u001b[32m━━━━━━━━━━━━━━━━━━━━\u001b[0m\u001b[37m\u001b[0m \u001b[1m0s\u001b[0m 17ms/step - accuracy: 0.8094 - loss: 0.4611 - val_accuracy: 0.6000 - val_loss: 0.5816\n",
            "Epoch 7/9\n",
            "\u001b[1m3/3\u001b[0m \u001b[32m━━━━━━━━━━━━━━━━━━━━\u001b[0m\u001b[37m\u001b[0m \u001b[1m0s\u001b[0m 17ms/step - accuracy: 0.8695 - loss: 0.3998 - val_accuracy: 0.7500 - val_loss: 0.5556\n",
            "Epoch 8/9\n",
            "\u001b[1m3/3\u001b[0m \u001b[32m━━━━━━━━━━━━━━━━━━━━\u001b[0m\u001b[37m\u001b[0m \u001b[1m0s\u001b[0m 18ms/step - accuracy: 0.9070 - loss: 0.3190 - val_accuracy: 0.8000 - val_loss: 0.5460\n",
            "Epoch 9/9\n",
            "\u001b[1m3/3\u001b[0m \u001b[32m━━━━━━━━━━━━━━━━━━━━\u001b[0m\u001b[37m\u001b[0m \u001b[1m0s\u001b[0m 18ms/step - accuracy: 0.9367 - loss: 0.2626 - val_accuracy: 0.7500 - val_loss: 0.5688\n"
          ]
        }
      ]
    },
    {
      "cell_type": "code",
      "source": [
        "test_loss, test_acc = model.evaluate(test_ds)\n",
        "print(f\"Test accuracy with synthetic boost: {test_acc:.4f}\")\n"
      ],
      "metadata": {
        "colab": {
          "base_uri": "https://localhost:8080/"
        },
        "id": "zPfLyKs3Yqq2",
        "outputId": "9986b0bf-b67e-4195-b694-a19fcc931709"
      },
      "execution_count": 15,
      "outputs": [
        {
          "output_type": "stream",
          "name": "stdout",
          "text": [
            "\u001b[1m1/1\u001b[0m \u001b[32m━━━━━━━━━━━━━━━━━━━━\u001b[0m\u001b[37m\u001b[0m \u001b[1m0s\u001b[0m 11ms/step - accuracy: 0.7500 - loss: 0.5688\n",
            "Test accuracy with synthetic boost: 0.7500\n"
          ]
        }
      ]
    },
    {
      "cell_type": "markdown",
      "source": [
        "Test Accuracy: 75%"
      ],
      "metadata": {
        "id": "LIIconlIM-Lw"
      }
    }
  ]
}